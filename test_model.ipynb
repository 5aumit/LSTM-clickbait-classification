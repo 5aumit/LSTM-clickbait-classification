{
 "cells": [
  {
   "cell_type": "code",
   "execution_count": 33,
   "id": "c3400bd0-a170-43e7-aa48-096c620e6fa9",
   "metadata": {},
   "outputs": [],
   "source": [
    "import pickle\n",
    "import pandas as pd\n",
    "from tensorflow.keras.models import load_model\n",
    "from tensorflow.keras.preprocessing.text import Tokenizer\n",
    "from tensorflow.keras.preprocessing.sequence import pad_sequences\n",
    "from tensorflow.keras.preprocessing.text import tokenizer_from_json\n",
    "import json\n",
    "import numpy as np\n",
    "\n",
    "import texthero as hero"
   ]
  },
  {
   "cell_type": "code",
   "execution_count": 68,
   "id": "9e3f8404-3489-42cf-9369-b0cf36b81d64",
   "metadata": {},
   "outputs": [],
   "source": [
    "model = model=load_model(\"saves\\\\tf_lstmmodel.h5\")\n",
    "def predict(message):\n",
    "    t = hero.clean(pd.Series([text])).tolist()\n",
    "    with open('saves\\\\tokenizer.json') as json_file:\n",
    "        json_string = json.load(json_file)\n",
    "    tokenizer = tokenizer_from_json(json_string)\n",
    "    x_1  = np.array(tokenizer.texts_to_sequences(t))\n",
    "    x_1 = pad_sequences(x_1, padding='post', maxlen=100)\n",
    "    prediction = model.predict(x_1)[0][0]\n",
    "    return prediction"
   ]
  },
  {
   "cell_type": "code",
   "execution_count": 69,
   "id": "4c882017-5f04-46c3-8e1f-a0b9edeb754d",
   "metadata": {},
   "outputs": [],
   "source": [
    "df = pd.read_csv('clickbait/clickbait_data.csv')"
   ]
  },
  {
   "cell_type": "code",
   "execution_count": 70,
   "id": "bec01ac8-fb50-40f8-b7ad-b21a9a7adaaf",
   "metadata": {},
   "outputs": [],
   "source": [
    "text = df[df['clickbait']==0]['headline'][16987]"
   ]
  },
  {
   "cell_type": "code",
   "execution_count": 71,
   "id": "2dec6197-299c-4e46-8cc2-4531cf79e628",
   "metadata": {},
   "outputs": [
    {
     "name": "stdout",
     "output_type": "stream",
     "text": [
      "WARNING:tensorflow:6 out of the last 10 calls to <function Model.make_predict_function.<locals>.predict_function at 0x000001F7C7653280> triggered tf.function retracing. Tracing is expensive and the excessive number of tracings could be due to (1) creating @tf.function repeatedly in a loop, (2) passing tensors with different shapes, (3) passing Python objects instead of tensors. For (1), please define your @tf.function outside of the loop. For (2), @tf.function has experimental_relax_shapes=True option that relaxes argument shapes that can avoid unnecessary retracing. For (3), please refer to https://www.tensorflow.org/guide/function#controlling_retracing and https://www.tensorflow.org/api_docs/python/tf/function for  more details.\n"
     ]
    },
    {
     "data": {
      "text/plain": [
       "0.021362156"
      ]
     },
     "execution_count": 71,
     "metadata": {},
     "output_type": "execute_result"
    }
   ],
   "source": [
    "predict(text)"
   ]
  },
  {
   "cell_type": "code",
   "execution_count": 46,
   "id": "39248cdb-b116-446c-b813-3c46091f56b7",
   "metadata": {},
   "outputs": [
    {
     "data": {
      "text/plain": [
       "array([[ 126, 3080,  263, 4788,    0,    0,    0,    0,    0,    0,    0,\n",
       "           0,    0,    0,    0,    0,    0,    0,    0,    0,    0,    0,\n",
       "           0,    0,    0,    0,    0,    0,    0,    0,    0,    0,    0,\n",
       "           0,    0,    0,    0,    0,    0,    0,    0,    0,    0,    0,\n",
       "           0,    0,    0,    0,    0,    0,    0,    0,    0,    0,    0,\n",
       "           0,    0,    0,    0,    0,    0,    0,    0,    0,    0,    0,\n",
       "           0,    0,    0,    0,    0,    0,    0,    0,    0,    0,    0,\n",
       "           0,    0,    0,    0,    0,    0,    0,    0,    0,    0,    0,\n",
       "           0,    0,    0,    0,    0,    0,    0,    0,    0,    0,    0,\n",
       "           0]])"
      ]
     },
     "execution_count": 46,
     "metadata": {},
     "output_type": "execute_result"
    }
   ],
   "source": [
    "t = hero.clean(pd.Series([text])).tolist()\n",
    "with open('saves\\\\tokenizer.json') as json_file:\n",
    "    json_string = json.load(json_file)\n",
    "x_1  = np.array(tokenizer.texts_to_sequences(t))\n",
    "x_1 = pad_sequences(x_1, padding='post', maxlen=100)\n",
    "x_1"
   ]
  },
  {
   "cell_type": "code",
   "execution_count": 39,
   "id": "2e98d704-6867-4fce-83f8-9dce27ad325e",
   "metadata": {},
   "outputs": [
    {
     "data": {
      "text/plain": [
       "['perfect responses indian patriarchy']"
      ]
     },
     "execution_count": 39,
     "metadata": {},
     "output_type": "execute_result"
    }
   ],
   "source": [
    "t"
   ]
  },
  {
   "cell_type": "code",
   "execution_count": null,
   "id": "a36b71d2-f2dc-4ea0-a10b-800cc3bb6077",
   "metadata": {},
   "outputs": [],
   "source": []
  }
 ],
 "metadata": {
  "kernelspec": {
   "display_name": "Python 3 (ipykernel)",
   "language": "python",
   "name": "python3"
  },
  "language_info": {
   "codemirror_mode": {
    "name": "ipython",
    "version": 3
   },
   "file_extension": ".py",
   "mimetype": "text/x-python",
   "name": "python",
   "nbconvert_exporter": "python",
   "pygments_lexer": "ipython3",
   "version": "3.8.0"
  }
 },
 "nbformat": 4,
 "nbformat_minor": 5
}
