{
 "cells": [
  {
   "cell_type": "code",
   "execution_count": 1,
   "id": "c3400bd0-a170-43e7-aa48-096c620e6fa9",
   "metadata": {},
   "outputs": [],
   "source": [
    "import pickle\n",
    "import pandas as pd\n",
    "from tensorflow.keras.models import load_model\n",
    "from tensorflow.keras.preprocessing.text import Tokenizer\n",
    "from tensorflow.keras.preprocessing.sequence import pad_sequences\n",
    "import texthero as hero"
   ]
  },
  {
   "cell_type": "code",
   "execution_count": 2,
   "id": "ed992305-6f97-4f3b-bbd1-d794fc3c9859",
   "metadata": {},
   "outputs": [],
   "source": [
    "model=load_model(\"saves\\\\tf_lstmmodel\")"
   ]
  },
  {
   "cell_type": "code",
   "execution_count": 3,
   "id": "9e3f8404-3489-42cf-9369-b0cf36b81d64",
   "metadata": {},
   "outputs": [],
   "source": [
    "def predict(message):\n",
    "    lemm = hero.clean(pd.Series([message])).tolist()\n",
    "#    text = np.array(tokenizer.texts_to_sequences(lemm))\n",
    "    with open('saves\\\\tokenizer.pickle', 'rb') as handle:\n",
    "        tokenizer = pickle.load(handle)\n",
    "    x_1 = tokenizer.texts_to_sequences([lemm])\n",
    "    x_1 = pad_sequences(x_1, maxlen=100)\n",
    "    predictions = model.predict(x_1)[0][0]\n",
    "    return predictions"
   ]
  },
  {
   "cell_type": "code",
   "execution_count": 4,
   "id": "4c882017-5f04-46c3-8e1f-a0b9edeb754d",
   "metadata": {},
   "outputs": [],
   "source": [
    "df = pd.read_csv('clickbait/clickbait_data.csv')"
   ]
  },
  {
   "cell_type": "code",
   "execution_count": 7,
   "id": "bec01ac8-fb50-40f8-b7ad-b21a9a7adaaf",
   "metadata": {},
   "outputs": [],
   "source": [
    "text = df[df['clickbait']==0]['headline'][16891]"
   ]
  },
  {
   "cell_type": "code",
   "execution_count": 8,
   "id": "2dec6197-299c-4e46-8cc2-4531cf79e628",
   "metadata": {},
   "outputs": [
    {
     "data": {
      "text/plain": [
       "0.8430327"
      ]
     },
     "execution_count": 8,
     "metadata": {},
     "output_type": "execute_result"
    }
   ],
   "source": [
    "predict(text)"
   ]
  },
  {
   "cell_type": "code",
   "execution_count": null,
   "id": "39248cdb-b116-446c-b813-3c46091f56b7",
   "metadata": {},
   "outputs": [],
   "source": []
  }
 ],
 "metadata": {
  "kernelspec": {
   "display_name": "Python 3 (ipykernel)",
   "language": "python",
   "name": "python3"
  },
  "language_info": {
   "codemirror_mode": {
    "name": "ipython",
    "version": 3
   },
   "file_extension": ".py",
   "mimetype": "text/x-python",
   "name": "python",
   "nbconvert_exporter": "python",
   "pygments_lexer": "ipython3",
   "version": "3.8.0"
  }
 },
 "nbformat": 4,
 "nbformat_minor": 5
}
