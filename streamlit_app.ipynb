{
 "cells": [
  {
   "cell_type": "code",
   "execution_count": 1,
   "id": "d28e2759-7249-41d5-aef5-6a34f71fc7ae",
   "metadata": {},
   "outputs": [],
   "source": [
    "import streamlit as st\n",
    "import pickle\n",
    "import pandas as pd\n",
    "from tensorflow.keras.models import load_model\n",
    "from tensorflow.keras.preprocessing.text import Tokenizer\n",
    "from tensorflow.keras.preprocessing.sequence import pad_sequences\n",
    "import texthero as hero"
   ]
  },
  {
   "cell_type": "code",
   "execution_count": 2,
   "id": "4e2d63f5-a735-4bad-9f33-6dc5390115d5",
   "metadata": {},
   "outputs": [],
   "source": [
    "def predict(message):\n",
    "    model=load_model(\"saves\\\\tf_lstmmodel.h5\")\n",
    "    lemm = hero.clean(pd.Series([message]))\n",
    "    with open('tokenizer.pickle', 'rb') as handle:\n",
    "        tokenizer = pickle.load(handle)\n",
    "    x_1 = tokenizer.texts_to_sequences([lemm])\n",
    "    x_1 = pad_sequences(x_1, maxlen=500)\n",
    "    predictions = model.predict(x_1)[0][0]\n",
    "    return predictions"
   ]
  },
  {
   "cell_type": "code",
   "execution_count": 3,
   "id": "26a76acf-4e7c-4cef-be37-8b2bc3ae31b8",
   "metadata": {},
   "outputs": [
    {
     "name": "stderr",
     "output_type": "stream",
     "text": [
      "2021-08-02 23:31:01.419 \n",
      "  \u001b[33m\u001b[1mWarning:\u001b[0m to view this Streamlit app on a browser, run it with the following\n",
      "  command:\n",
      "\n",
      "    streamlit run c:\\users\\saumi\\appdata\\local\\programs\\python\\python38\\lib\\site-packages\\ipykernel_launcher.py [ARGUMENTS]\n"
     ]
    }
   ],
   "source": [
    "st.title('Clickbait Predictor')\n",
    "message = st.text_area('Enter a title',\"Type Here ..\")\n",
    "if st.button(\"Analyze\"):\n",
    "    with st.spinner(\"Analyzing\"):\n",
    "        prediction = predict(message)\n",
    "    if prediction >= 0.5:\n",
    "        st.warning(\"This title has a {:.2f}% chance of being clickbait\".format(prediction))\n",
    "    elif prediction <0.5:\n",
    "        st.success(\"This title has a {:.2f}% chance of being clickbait\".format(prediction))    \n",
    "    "
   ]
  },
  {
   "cell_type": "code",
   "execution_count": null,
   "id": "cafc9da1-3ef4-4c95-9a21-780642fe6232",
   "metadata": {},
   "outputs": [],
   "source": []
  }
 ],
 "metadata": {
  "kernelspec": {
   "display_name": "Python 3 (ipykernel)",
   "language": "python",
   "name": "python3"
  },
  "language_info": {
   "codemirror_mode": {
    "name": "ipython",
    "version": 3
   },
   "file_extension": ".py",
   "mimetype": "text/x-python",
   "name": "python",
   "nbconvert_exporter": "python",
   "pygments_lexer": "ipython3",
   "version": "3.8.0"
  }
 },
 "nbformat": 4,
 "nbformat_minor": 5
}
